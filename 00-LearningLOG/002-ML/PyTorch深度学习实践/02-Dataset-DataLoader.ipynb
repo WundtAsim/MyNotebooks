{
 "cells": [
  {
   "cell_type": "markdown",
   "metadata": {},
   "source": [
    "# 1. Prepare dataset"
   ]
  },
  {
   "cell_type": "code",
   "execution_count": 3,
   "metadata": {},
   "outputs": [],
   "source": [
    "import torch\n",
    "import numpy as np\n",
    "import matplotlib.pyplot as plt\n",
    "\n",
    "xy = np.loadtxt('diabetes.csv.gz',delimiter=',',dtype=np.float32)\n",
    "x_data = torch.from_numpy(xy[:,:-1])\n",
    "y_data = torch.from_numpy(xy[:,[-1]])"
   ]
  },
  {
   "cell_type": "markdown",
   "metadata": {},
   "source": [
    "# 2. Design model\n",
    "inherit from nn.Module\n",
    "we can try different activate function\n",
    "- ReLU "
   ]
  },
  {
   "cell_type": "code",
   "execution_count": 4,
   "metadata": {},
   "outputs": [],
   "source": [
    "class Model(torch.nn.Module):\n",
    "    def __init__(self):\n",
    "        # call father class's __init__()\n",
    "        super(Model,self).__init__()\n",
    "        # construct an object 'linear'(in_features, out_features, bias=True)\n",
    "        self.linear1 = torch.nn.Linear(8,6)\n",
    "        self.linear1 = torch.nn.Linear(6,4)\n",
    "        self.linear1 = torch.nn.Linear(4,1)\n",
    "        self.sigmoid = torch.nn.Sigmoid()\n",
    "\n",
    "    def forward(self,x):\n",
    "        # call callable object 'linear':__call__(self,*args, **kwargs) to forward computational graph\n",
    "        x = self.sigmoid(self.linear1(x)) # if it's for logistic regression: nn.function.sigmoid(self.linear(x)) \n",
    "        x = self.sigmoid(self.linear2(x))\n",
    "        x = self.sigmoid(self.linear3(x))\n",
    "        return x\n",
    "# instance of class LinearModel, call model(x) to compute y hat.\n",
    "model = Model()"
   ]
  },
  {
   "cell_type": "markdown",
   "metadata": {},
   "source": [
    "# 3. Construct loss and optimizer\n",
    "using Pytorch API\n",
    "try different optimizer in linear regression:\n",
    "- torch.optim.Adagrad\n",
    "- Adam\n",
    "- Adamx\n",
    "- ASGD\n",
    "- LBFGS\n",
    "- RMSprop\n",
    "- Rprop\n",
    "- SGD"
   ]
  },
  {
   "cell_type": "code",
   "execution_count": 5,
   "metadata": {},
   "outputs": [],
   "source": [
    "# create a object(y_hat,y) to compute MSEloss\n",
    "criterion = torch.nn.BCELoss(reduction='sum')   # if it's for logistic regression: BCELoss(reduction='sum')\n",
    "# use model.parameters() to find all the parameters to be iterated\n",
    "optimizer = torch.optim.SGD(model.parameters(), lr = 0.1)"
   ]
  },
  {
   "cell_type": "markdown",
   "metadata": {},
   "source": [
    "# 4.Training cycle\n",
    "1. forward, \n",
    "2. loss, \n",
    "3. backward, \n",
    "4. update"
   ]
  },
  {
   "cell_type": "code",
   "execution_count": 6,
   "metadata": {},
   "outputs": [
    {
     "ename": "RuntimeError",
     "evalue": "mat1 and mat2 shapes cannot be multiplied (759x8 and 4x1)",
     "output_type": "error",
     "traceback": [
      "\u001b[1;31m---------------------------------------------------------------------------\u001b[0m",
      "\u001b[1;31mRuntimeError\u001b[0m                              Traceback (most recent call last)",
      "\u001b[1;32me:\\Git\\MyNotebooks\\00-LearningLOG\\002-ML\\Pytorch-logisticRegression.ipynb Cell 8\u001b[0m in \u001b[0;36m<cell line: 1>\u001b[1;34m()\u001b[0m\n\u001b[0;32m      <a href='vscode-notebook-cell:/e%3A/Git/MyNotebooks/00-LearningLOG/002-ML/Pytorch-logisticRegression.ipynb#ch0000007?line=0'>1</a>\u001b[0m \u001b[39mfor\u001b[39;00m epoch \u001b[39min\u001b[39;00m \u001b[39mrange\u001b[39m(\u001b[39m100\u001b[39m):\n\u001b[0;32m      <a href='vscode-notebook-cell:/e%3A/Git/MyNotebooks/00-LearningLOG/002-ML/Pytorch-logisticRegression.ipynb#ch0000007?line=1'>2</a>\u001b[0m     \u001b[39m# forward: Predict\u001b[39;00m\n\u001b[1;32m----> <a href='vscode-notebook-cell:/e%3A/Git/MyNotebooks/00-LearningLOG/002-ML/Pytorch-logisticRegression.ipynb#ch0000007?line=2'>3</a>\u001b[0m     y_pred \u001b[39m=\u001b[39m model(x_data)  \u001b[39m# for now, we use all the data, instead of miniBatch\u001b[39;00m\n\u001b[0;32m      <a href='vscode-notebook-cell:/e%3A/Git/MyNotebooks/00-LearningLOG/002-ML/Pytorch-logisticRegression.ipynb#ch0000007?line=3'>4</a>\u001b[0m     loss \u001b[39m=\u001b[39m criterion(y_pred, y_data)\n\u001b[0;32m      <a href='vscode-notebook-cell:/e%3A/Git/MyNotebooks/00-LearningLOG/002-ML/Pytorch-logisticRegression.ipynb#ch0000007?line=4'>5</a>\u001b[0m     \u001b[39mprint\u001b[39m(epoch, loss\u001b[39m.\u001b[39mitem())  \u001b[39m# loss is an object, it'll call \"__str__()\"\u001b[39;00m\n",
      "File \u001b[1;32mc:\\Users\\yangqi\\miniconda3\\envs\\ML\\lib\\site-packages\\torch\\nn\\modules\\module.py:1110\u001b[0m, in \u001b[0;36mModule._call_impl\u001b[1;34m(self, *input, **kwargs)\u001b[0m\n\u001b[0;32m   1106\u001b[0m \u001b[39m# If we don't have any hooks, we want to skip the rest of the logic in\u001b[39;00m\n\u001b[0;32m   1107\u001b[0m \u001b[39m# this function, and just call forward.\u001b[39;00m\n\u001b[0;32m   1108\u001b[0m \u001b[39mif\u001b[39;00m \u001b[39mnot\u001b[39;00m (\u001b[39mself\u001b[39m\u001b[39m.\u001b[39m_backward_hooks \u001b[39mor\u001b[39;00m \u001b[39mself\u001b[39m\u001b[39m.\u001b[39m_forward_hooks \u001b[39mor\u001b[39;00m \u001b[39mself\u001b[39m\u001b[39m.\u001b[39m_forward_pre_hooks \u001b[39mor\u001b[39;00m _global_backward_hooks\n\u001b[0;32m   1109\u001b[0m         \u001b[39mor\u001b[39;00m _global_forward_hooks \u001b[39mor\u001b[39;00m _global_forward_pre_hooks):\n\u001b[1;32m-> 1110\u001b[0m     \u001b[39mreturn\u001b[39;00m forward_call(\u001b[39m*\u001b[39;49m\u001b[39minput\u001b[39;49m, \u001b[39m*\u001b[39;49m\u001b[39m*\u001b[39;49mkwargs)\n\u001b[0;32m   1111\u001b[0m \u001b[39m# Do not call functions when jit is used\u001b[39;00m\n\u001b[0;32m   1112\u001b[0m full_backward_hooks, non_full_backward_hooks \u001b[39m=\u001b[39m [], []\n",
      "\u001b[1;32me:\\Git\\MyNotebooks\\00-LearningLOG\\002-ML\\Pytorch-logisticRegression.ipynb Cell 8\u001b[0m in \u001b[0;36mModel.forward\u001b[1;34m(self, x)\u001b[0m\n\u001b[0;32m     <a href='vscode-notebook-cell:/e%3A/Git/MyNotebooks/00-LearningLOG/002-ML/Pytorch-logisticRegression.ipynb#ch0000007?line=10'>11</a>\u001b[0m \u001b[39mdef\u001b[39;00m \u001b[39mforward\u001b[39m(\u001b[39mself\u001b[39m,x):\n\u001b[0;32m     <a href='vscode-notebook-cell:/e%3A/Git/MyNotebooks/00-LearningLOG/002-ML/Pytorch-logisticRegression.ipynb#ch0000007?line=11'>12</a>\u001b[0m     \u001b[39m# call callable object 'linear':__call__(self,*args, **kwargs) to forward computational graph\u001b[39;00m\n\u001b[1;32m---> <a href='vscode-notebook-cell:/e%3A/Git/MyNotebooks/00-LearningLOG/002-ML/Pytorch-logisticRegression.ipynb#ch0000007?line=12'>13</a>\u001b[0m     x \u001b[39m=\u001b[39m \u001b[39mself\u001b[39m\u001b[39m.\u001b[39msigmoid(\u001b[39mself\u001b[39;49m\u001b[39m.\u001b[39;49mlinear1(x)) \u001b[39m# if it's for logistic regression: nn.function.sigmoid(self.linear(x)) \u001b[39;00m\n\u001b[0;32m     <a href='vscode-notebook-cell:/e%3A/Git/MyNotebooks/00-LearningLOG/002-ML/Pytorch-logisticRegression.ipynb#ch0000007?line=13'>14</a>\u001b[0m     x \u001b[39m=\u001b[39m \u001b[39mself\u001b[39m\u001b[39m.\u001b[39msigmoid(\u001b[39mself\u001b[39m\u001b[39m.\u001b[39mlinear2(x))\n\u001b[0;32m     <a href='vscode-notebook-cell:/e%3A/Git/MyNotebooks/00-LearningLOG/002-ML/Pytorch-logisticRegression.ipynb#ch0000007?line=14'>15</a>\u001b[0m     x \u001b[39m=\u001b[39m \u001b[39mself\u001b[39m\u001b[39m.\u001b[39msigmoid(\u001b[39mself\u001b[39m\u001b[39m.\u001b[39mlinear3(x))\n",
      "File \u001b[1;32mc:\\Users\\yangqi\\miniconda3\\envs\\ML\\lib\\site-packages\\torch\\nn\\modules\\module.py:1110\u001b[0m, in \u001b[0;36mModule._call_impl\u001b[1;34m(self, *input, **kwargs)\u001b[0m\n\u001b[0;32m   1106\u001b[0m \u001b[39m# If we don't have any hooks, we want to skip the rest of the logic in\u001b[39;00m\n\u001b[0;32m   1107\u001b[0m \u001b[39m# this function, and just call forward.\u001b[39;00m\n\u001b[0;32m   1108\u001b[0m \u001b[39mif\u001b[39;00m \u001b[39mnot\u001b[39;00m (\u001b[39mself\u001b[39m\u001b[39m.\u001b[39m_backward_hooks \u001b[39mor\u001b[39;00m \u001b[39mself\u001b[39m\u001b[39m.\u001b[39m_forward_hooks \u001b[39mor\u001b[39;00m \u001b[39mself\u001b[39m\u001b[39m.\u001b[39m_forward_pre_hooks \u001b[39mor\u001b[39;00m _global_backward_hooks\n\u001b[0;32m   1109\u001b[0m         \u001b[39mor\u001b[39;00m _global_forward_hooks \u001b[39mor\u001b[39;00m _global_forward_pre_hooks):\n\u001b[1;32m-> 1110\u001b[0m     \u001b[39mreturn\u001b[39;00m forward_call(\u001b[39m*\u001b[39;49m\u001b[39minput\u001b[39;49m, \u001b[39m*\u001b[39;49m\u001b[39m*\u001b[39;49mkwargs)\n\u001b[0;32m   1111\u001b[0m \u001b[39m# Do not call functions when jit is used\u001b[39;00m\n\u001b[0;32m   1112\u001b[0m full_backward_hooks, non_full_backward_hooks \u001b[39m=\u001b[39m [], []\n",
      "File \u001b[1;32mc:\\Users\\yangqi\\miniconda3\\envs\\ML\\lib\\site-packages\\torch\\nn\\modules\\linear.py:103\u001b[0m, in \u001b[0;36mLinear.forward\u001b[1;34m(self, input)\u001b[0m\n\u001b[0;32m    102\u001b[0m \u001b[39mdef\u001b[39;00m \u001b[39mforward\u001b[39m(\u001b[39mself\u001b[39m, \u001b[39minput\u001b[39m: Tensor) \u001b[39m-\u001b[39m\u001b[39m>\u001b[39m Tensor:\n\u001b[1;32m--> 103\u001b[0m     \u001b[39mreturn\u001b[39;00m F\u001b[39m.\u001b[39;49mlinear(\u001b[39minput\u001b[39;49m, \u001b[39mself\u001b[39;49m\u001b[39m.\u001b[39;49mweight, \u001b[39mself\u001b[39;49m\u001b[39m.\u001b[39;49mbias)\n",
      "\u001b[1;31mRuntimeError\u001b[0m: mat1 and mat2 shapes cannot be multiplied (759x8 and 4x1)"
     ]
    }
   ],
   "source": [
    "for epoch in range(100):\n",
    "    # forward: Predict\n",
    "    y_pred = model(x_data)  # for now, we use all the data, instead of miniBatch\n",
    "    loss = criterion(y_pred, y_data)\n",
    "    print(epoch, loss.item())  # loss is an object, it'll call \"__str__()\"\n",
    "    \n",
    "    optimizer.zero_grad()   # set to zero\n",
    "    loss.backward()\n",
    "    optimizer.step()    # update"
   ]
  },
  {
   "cell_type": "markdown",
   "metadata": {},
   "source": [
    "# 5. Learning curve"
   ]
  },
  {
   "cell_type": "markdown",
   "metadata": {},
   "source": [
    "# 6. Test"
   ]
  },
  {
   "cell_type": "code",
   "execution_count": null,
   "metadata": {},
   "outputs": [
    {
     "name": "stdout",
     "output_type": "stream",
     "text": [
      "w= 1.9829001426696777\n",
      "b= 0.03887215256690979\n",
      "y_pred =  tensor([7.9705])\n"
     ]
    }
   ],
   "source": [
    "# output weight and bias\n",
    "print('w=',model.linear.weight.item())\n",
    "print('b=',model.linear.bias.item())\n",
    "\n",
    "# test model\n",
    "x_test = torch.Tensor([4.0])\n",
    "y_test = model(x_test)\n",
    "print('y_pred = ',y_test.data)"
   ]
  }
 ],
 "metadata": {
  "kernelspec": {
   "display_name": "Python 3.8.13 ('ML')",
   "language": "python",
   "name": "python3"
  },
  "language_info": {
   "codemirror_mode": {
    "name": "ipython",
    "version": 3
   },
   "file_extension": ".py",
   "mimetype": "text/x-python",
   "name": "python",
   "nbconvert_exporter": "python",
   "pygments_lexer": "ipython3",
   "version": "3.8.13"
  },
  "orig_nbformat": 4,
  "vscode": {
   "interpreter": {
    "hash": "12cb4aa1425b1a8226b8ef52a2680b8f2706cdede0ce9c4e61fcba438ef64743"
   }
  }
 },
 "nbformat": 4,
 "nbformat_minor": 2
}
