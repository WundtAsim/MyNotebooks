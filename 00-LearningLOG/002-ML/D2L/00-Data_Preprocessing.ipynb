{
 "cells": [
  {
   "cell_type": "markdown",
   "id": "2076be16",
   "metadata": {},
   "source": [
    "# 数据预处理"
   ]
  },
  {
   "cell_type": "code",
   "execution_count": 1,
   "id": "d7e6886a",
   "metadata": {},
   "outputs": [],
   "source": [
    "#创建了一个人工数据集，并写入csv文件\n",
    "import os\n",
    "os.makedirs(os.path.join('..', 'data'), exist_ok=True)\n",
    "data_file = os.path.join('..', 'data', 'house_tiny.csv')\n",
    "with open(data_file,'w') as f:\n",
    "    f.write('NumRooms,Alley,Price\\n')\n",
    "    f.write('NA,Pave,127500\\n')\n",
    "    f.write('2,NA,1060000\\n')\n",
    "    f.write('4,NA,178100\\n')\n",
    "    f.write('NA,NA,140000\\n')"
   ]
  },
  {
   "cell_type": "code",
   "execution_count": 2,
   "id": "cde828e3",
   "metadata": {},
   "outputs": [
    {
     "name": "stdout",
     "output_type": "stream",
     "text": [
      "   NumRooms Alley    Price\n",
      "0       NaN  Pave   127500\n",
      "1       2.0   NaN  1060000\n",
      "2       4.0   NaN   178100\n",
      "3       NaN   NaN   140000\n"
     ]
    }
   ],
   "source": [
    "#从创建的csv文件中加载数据集\n",
    "import pandas as pd\n",
    "data = pd.read_csv(data_file)\n",
    "print(data)"
   ]
  },
  {
   "cell_type": "code",
   "execution_count": 3,
   "id": "100a8b84",
   "metadata": {},
   "outputs": [
    {
     "name": "stdout",
     "output_type": "stream",
     "text": [
      "   NumRooms Alley\n",
      "0       3.0  Pave\n",
      "1       2.0   NaN\n",
      "2       4.0   NaN\n",
      "3       3.0   NaN\n"
     ]
    }
   ],
   "source": [
    "#处理缺失的数据，这里使用插值\n",
    "inputs, outputs = data.iloc[:, 0:2], data.iloc[:,2]#此处拿出前两列作为input，0：2不含2\n",
    "inputs = inputs.fillna(inputs.mean())\n",
    "print(inputs)"
   ]
  },
  {
   "cell_type": "code",
   "execution_count": 4,
   "id": "76c263b3",
   "metadata": {},
   "outputs": [
    {
     "name": "stdout",
     "output_type": "stream",
     "text": [
      "   NumRooms  Alley_Pave  Alley_nan\n",
      "0       3.0           1          0\n",
      "1       2.0           0          1\n",
      "2       4.0           0          1\n",
      "3       3.0           0          1\n"
     ]
    }
   ],
   "source": [
    "#对于inputs中的类别值或离散值， 我们将nan视为一个类别\n",
    "inputs = pd.get_dummies(inputs, dummy_na=True)\n",
    "print(inputs)"
   ]
  },
  {
   "cell_type": "code",
   "execution_count": 5,
   "id": "f85c0b12",
   "metadata": {},
   "outputs": [
    {
     "data": {
      "text/plain": [
       "(tensor([[3., 1., 0.],\n",
       "         [2., 0., 1.],\n",
       "         [4., 0., 1.],\n",
       "         [3., 0., 1.]], dtype=torch.float64),\n",
       " tensor([ 127500, 1060000,  178100,  140000]))"
      ]
     },
     "execution_count": 5,
     "metadata": {},
     "output_type": "execute_result"
    }
   ],
   "source": [
    "#现在已经把inputs中和outputs中所有条目转换为数值格式，因此可以转换位张量\n",
    "import torch\n",
    "x,y = torch.tensor(inputs.values),torch.tensor(outputs.values)\n",
    "x,y"
   ]
  },
  {
   "cell_type": "markdown",
   "id": "b2b65864",
   "metadata": {},
   "source": [
    "## 测试一些list的技巧"
   ]
  },
  {
   "cell_type": "code",
   "execution_count": 6,
   "id": "21bb9c20",
   "metadata": {},
   "outputs": [
    {
     "data": {
      "text/plain": [
       "[0, 18, 36, 54, 72, 90, 108, 126, 144, 162, 180, 198]"
      ]
     },
     "execution_count": 6,
     "metadata": {},
     "output_type": "execute_result"
    }
   ],
   "source": [
    "#list的推导式：(其他方式还有：基本语法，range，list)\n",
    "a = [x*2 for x in range(100) if x%9==0]\n",
    "a"
   ]
  },
  {
   "cell_type": "code",
   "execution_count": 3,
   "id": "9d97b994",
   "metadata": {},
   "outputs": [
    {
     "data": {
      "text/plain": [
       "[10, 20, 100, 30, 40, 10, 20, 100, 30, 40, 10, 20, 100, 30, 40]"
      ]
     },
     "execution_count": 3,
     "metadata": {},
     "output_type": "execute_result"
    }
   ],
   "source": [
    "#list的增加（不限制元素类型）：append原地，+产生新的对象，extend原地,insert指定位置\n",
    "a = [10,20,30,40]\n",
    "a.insert(2,100)\n",
    "a*3#乘法扩展"
   ]
  },
  {
   "cell_type": "code",
   "execution_count": 13,
   "id": "469cf80d",
   "metadata": {},
   "outputs": [
    {
     "data": {
      "text/plain": [
       "[4]"
      ]
     },
     "execution_count": 13,
     "metadata": {},
     "output_type": "execute_result"
    }
   ],
   "source": [
    "#list的删除：del数据往前拷贝，pop删除并返回指定位置元素, remove首次元素\n",
    "a = [1,2,3,4]\n",
    "del a[1]\n",
    "a.pop(1)\n",
    "a.remove(1)\n",
    "a\n",
    "#a.index(20,3)表示从3开始搜索20，返回其索引\n",
    "#a.count(20)获取20出现的次数\n"
   ]
  },
  {
   "cell_type": "code",
   "execution_count": 28,
   "id": "adbebf75",
   "metadata": {},
   "outputs": [
    {
     "data": {
      "text/plain": [
       "[1, 0, 4, 3, 2]"
      ]
     },
     "execution_count": 28,
     "metadata": {},
     "output_type": "execute_result"
    }
   ],
   "source": [
    "#list排序---不建立新列表\n",
    "a = [1,2,3,4,0]\n",
    "a.sort(reverse=True)\n",
    "import random\n",
    "random.shuffle(a)\n",
    "a.reverse()#切片一样逆序a[::-1]\n",
    "a"
   ]
  },
  {
   "cell_type": "code",
   "execution_count": 23,
   "id": "e114441c",
   "metadata": {},
   "outputs": [
    {
     "data": {
      "text/plain": [
       "[4, 3, 2, 1, 0]"
      ]
     },
     "execution_count": 23,
     "metadata": {},
     "output_type": "execute_result"
    }
   ],
   "source": [
    "#建立新列表的排序\n",
    "a = [2,1,3,4,0]\n",
    "a = sorted(a,reverse = True)\n",
    "a"
   ]
  },
  {
   "cell_type": "markdown",
   "id": "1f4ffd36",
   "metadata": {},
   "source": [
    "## 元组tuple"
   ]
  },
  {
   "cell_type": "code",
   "execution_count": 2,
   "id": "c150e72c",
   "metadata": {},
   "outputs": [
    {
     "data": {
      "text/plain": [
       "0"
      ]
     },
     "execution_count": 2,
     "metadata": {},
     "output_type": "execute_result"
    }
   ],
   "source": [
    "#创建,元组不可更改增加删除\n",
    "a = (1,2,3,4)\n",
    "a= 0,\n",
    "type(a)\n",
    "b = tuple(\"abcd\")\n",
    "del(b)\n",
    "s = (a*2 for a in range(5))\n",
    "s.__next__()\n"
   ]
  },
  {
   "cell_type": "markdown",
   "id": "6b67224e",
   "metadata": {},
   "source": [
    "## 字典"
   ]
  },
  {
   "cell_type": "code",
   "execution_count": 11,
   "id": "c7124912",
   "metadata": {},
   "outputs": [
    {
     "data": {
      "text/plain": [
       "{'name': 'yq', 'age': 18, 'fine': [1, 2, 3], 'job': 'pro'}"
      ]
     },
     "execution_count": 11,
     "metadata": {},
     "output_type": "execute_result"
    }
   ],
   "source": [
    "#建立字典{}，dict()\n",
    "a = {'name':'yq','age':'18'}\n",
    "a = dict(name = 'yq',age = 18,fine = [1,2,3])\n",
    "a.get('name')\n",
    "a.items()\n",
    "a.values()\n",
    "a['job'] = 'pro'\n",
    "a "
   ]
  },
  {
   "cell_type": "markdown",
   "id": "a4a54f68",
   "metadata": {},
   "source": [
    "# 测试自动微分"
   ]
  },
  {
   "cell_type": "code",
   "execution_count": 8,
   "id": "a3d86a28",
   "metadata": {},
   "outputs": [
    {
     "data": {
      "text/plain": [
       "tensor([ 0.,  8., 16., 24.])"
      ]
     },
     "execution_count": 8,
     "metadata": {},
     "output_type": "execute_result"
    }
   ],
   "source": [
    "#如果两次使用backward会报错，因为grad已经使用了\n",
    "import torch\n",
    "x = torch.arange(4.0, requires_grad=True)\n",
    "y = 2*torch.dot(x,x)\n",
    "y.backward(retain_graph=True)#用于两次使用backward函数\n",
    "x.grad\n",
    "y.backward()\n",
    "x.grad"
   ]
  },
  {
   "cell_type": "code",
   "execution_count": 22,
   "id": "2e551360",
   "metadata": {},
   "outputs": [
    {
     "name": "stdout",
     "output_type": "stream",
     "text": [
      "torch.Size([3, 1])\n",
      "a: tensor([[-1.3702],\n",
      "        [-0.6998],\n",
      "        [-2.6625]], requires_grad=True)\n",
      "torch.Size([3, 1])\n",
      "b: tensor([[ 87.6942],\n",
      "        [ 44.7853],\n",
      "        [170.4012]], grad_fn=<MulBackward0>)\n",
      "梯度 tensor([[-64.],\n",
      "        [-64.],\n",
      "        [-64.]])\n"
     ]
    }
   ],
   "source": [
    "#测试控制流计算梯度\n",
    "def f(a):\n",
    "    b = 2*abs(a)\n",
    "    while b.norm()<100:\n",
    "        b*=2\n",
    "    return b\n",
    "a = torch.randn(size=(3,1),requires_grad=True)\n",
    "print(a.shape)\n",
    "print(\"a:\",a)\n",
    "b = f(a)\n",
    "print(b.shape)\n",
    "print(\"b:\",b)\n",
    "b.sum().backward()\n",
    "print(\"梯度\",a.grad)"
   ]
  },
  {
   "cell_type": "code",
   "execution_count": 55,
   "id": "b8c9d6f7",
   "metadata": {},
   "outputs": [
    {
     "name": "stdout",
     "output_type": "stream",
     "text": [
      "y: torch.Size([100])\n",
      "x: torch.Size([100])\n",
      "grad: torch.Size([100])\n"
     ]
    },
    {
     "data": {
      "image/png": "[encoded data removed]",
      "text/plain": [
       "<Figure size 432x288 with 1 Axes>"
      ]
     },
     "metadata": {
      "needs_background": "light"
     },
     "output_type": "display_data"
    }
   ],
   "source": [
    "#f(x)=sin(x),绘制f和导数的图像\n",
    "import matplotlib.pyplot as plt\n",
    "%matplotlib inline\n",
    "x = torch.arange(0.,10.,0.1, requires_grad=True)\n",
    "y = torch.sin(x)\n",
    "print(\"y:\",y.shape)\n",
    "y.backward(gradient=torch.ones(len(x)))\n",
    "print(\"x:\",x.shape)\n",
    "print(\"grad:\",x.grad.shape)\n",
    "plt.plot(x.detach(),y.detach(),label='f(x)')#需要把梯度值剔除，才能画图\n",
    "plt.plot(x.detach(),x.grad,label='df(x)/x')#需要把梯度值剔除，才能画图\n",
    "plt.legend(shadow=True)\n",
    "plt.show()\n"
   ]
  },
  {
   "cell_type": "code",
   "execution_count": 73,
   "id": "237747ee",
   "metadata": {},
   "outputs": [
    {
     "name": "stdout",
     "output_type": "stream",
     "text": [
      "Help on built-in function detach:\n",
      "\n",
      "detach(...)\n",
      "\n"
     ]
    }
   ],
   "source": [
    "help(torch.detach)"
   ]
  }
 ],
 "metadata": {
  "kernelspec": {
   "display_name": "Python 3 (ipykernel)",
   "language": "python",
   "name": "python3"
  },
  "language_info": {
   "codemirror_mode": {
    "name": "ipython",
    "version": 3
   },
   "file_extension": ".py",
   "mimetype": "text/x-python",
   "name": "python",
   "nbconvert_exporter": "python",
   "pygments_lexer": "ipython3",
   "version": "3.8.13"
  }
 },
 "nbformat": 4,
 "nbformat_minor": 5
}
