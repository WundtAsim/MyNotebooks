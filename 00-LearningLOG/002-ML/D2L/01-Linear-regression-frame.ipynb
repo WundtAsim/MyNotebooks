{
 "cells": [
  {
   "cell_type": "markdown",
   "id": "41900c48",
   "metadata": {},
   "source": [
    "# 线性回归的简洁实现，使用深度学习框架"
   ]
  },
  {
   "cell_type": "code",
   "execution_count": 239,
   "id": "71c13e5a",
   "metadata": {},
   "outputs": [],
   "source": [
    "import numpy as np\n",
    "import torch\n",
    "from torch.utils import data\n",
    "import matplotlib.pyplot as plt\n",
    "\n",
    "#创建数据集--------使用线性模型参数：w=[2.-3.4],b=4.2和噪声生成数据集以及标签\n",
    "def synthetic_data(w,b,num_examples):\n",
    "    #特征矩阵\n",
    "    X = torch.normal(0,1,(num_examples, len(w)))\n",
    "    #标签向量\n",
    "    y = torch.matmul(X,w) + b\n",
    "    #加噪声\n",
    "    y += torch.normal(0,0.01,y.shape)\n",
    "    return X, y.reshape((-1,1))\n",
    "true_w = torch.tensor([2, -3.4])\n",
    "true_b = 4.2\n",
    "features, labels = synthetic_data(true_w,true_b,1000)\n"
   ]
  },
  {
   "cell_type": "code",
   "execution_count": 240,
   "id": "652b4f32",
   "metadata": {},
   "outputs": [
    {
     "name": "stdout",
     "output_type": "stream",
     "text": [
      "True\n"
     ]
    },
    {
     "data": {
      "text/plain": [
       "[tensor([[-1.6966, -1.2396],\n",
       "         [ 0.5990,  0.7415],\n",
       "         [-0.0834,  0.1202],\n",
       "         [-0.2868,  1.2488],\n",
       "         [-0.3482, -0.1915],\n",
       "         [ 0.3913, -0.5989],\n",
       "         [ 0.2160, -0.8920],\n",
       "         [-0.3599,  1.1397],\n",
       "         [ 1.0170, -0.6592],\n",
       "         [ 0.1337, -0.0825]]),\n",
       " tensor([[ 5.0123],\n",
       "         [ 2.8949],\n",
       "         [ 3.6035],\n",
       "         [-0.6198],\n",
       "         [ 4.1634],\n",
       "         [ 7.0286],\n",
       "         [ 7.6643],\n",
       "         [-0.3938],\n",
       "         [ 8.4676],\n",
       "         [ 4.7485]])]"
      ]
     },
     "execution_count": 240,
     "metadata": {},
     "output_type": "execute_result"
    }
   ],
   "source": [
    "#调用现有框架中的API来读取数据\n",
    "def load_array(data_arrays, batch_size,is_train=True):\n",
    "    '''构造一个pytorch数据迭代器'''\n",
    "    #使用框架传进入x和y的list，得到dataset，*表示解包\n",
    "    dataset = data.TensorDataset(*data_arrays)\n",
    "    #使用dataloader函数，每次从中随机挑选batch\n",
    "    return data.DataLoader(dataset, batch_size, shuffle=is_train)\n",
    "\n",
    "batch_size = 10\n",
    "data_iter = load_array((features,labels), batch_size)\n",
    "\n",
    "\n",
    "#转成python的iterater，通过next函数得到一个x一个y\n",
    "print('__iter__' in dir(data_iter))\n",
    "next(iter(data_iter))\n"
   ]
  },
  {
   "cell_type": "code",
   "execution_count": 241,
   "id": "edf83ffa",
   "metadata": {},
   "outputs": [
    {
     "data": {
      "text/plain": [
       "tensor([0.])"
      ]
     },
     "execution_count": 241,
     "metadata": {},
     "output_type": "execute_result"
    }
   ],
   "source": [
    "#使用框架的预定义好的层\n",
    "'''nn是神经网络的缩写\n",
    "#在PyTorch中，全连接层在Linear类中定义。 \n",
    "值得注意的是，我们将两个参数传递到nn.Linear中。\n",
    "第一个指定输入特征形状，即2，第二个指定输出特征形状，输出特征形状为单个标量，因此为1。\n",
    "''' \n",
    "\n",
    "from torch import nn\n",
    "#通过linear指定维度。然后放进一个Sequential容器\n",
    "net = nn.Sequential(nn.Linear(2,1))\n",
    "\n",
    "#初始化模型参数（第0层）\n",
    "net[0].weight.data.normal_(0, 0.01)\n",
    "net[0].bias.data.fill_(0)\n"
   ]
  },
  {
   "cell_type": "code",
   "execution_count": 242,
   "id": "b6c2f081",
   "metadata": {},
   "outputs": [],
   "source": [
    "#计算均方误差使用的是MSELoss类，也成为平方范数\n",
    "loss = nn.MSELoss(reduction = 'mean')\n",
    "\n",
    "#实例化SGD实例:小批量随机梯度下降\n",
    "trainer = torch.optim.SGD(net.parameters(),lr = 0.03)"
   ]
  },
  {
   "cell_type": "code",
   "execution_count": 243,
   "id": "7772c2ae",
   "metadata": {},
   "outputs": [
    {
     "name": "stdout",
     "output_type": "stream",
     "text": [
      "epoch 1,loss 0.000240\n",
      "epoch 2,loss 0.000098\n",
      "epoch 3,loss 0.000097\n"
     ]
    }
   ],
   "source": [
    "#训练过程\n",
    "num_epochs = 3\n",
    "for epoch in range(num_epochs):\n",
    "    for X, y in data_iter:\n",
    "        l = loss(net(X),y)\n",
    "        trainer.zero_grad()\n",
    "        l.backward()\n",
    "        trainer.step()\n",
    "    l = loss(net(features),labels)\n",
    "    print(f'epoch {epoch + 1},loss {l:f}')"
   ]
  },
  {
   "cell_type": "code",
   "execution_count": 244,
   "id": "288d8820",
   "metadata": {},
   "outputs": [
    {
     "name": "stdout",
     "output_type": "stream",
     "text": [
      "w的估计误差： tensor([0.0004, 0.0004])\n",
      "b的估计误差： tensor([0.0001])\n"
     ]
    }
   ],
   "source": [
    "w = net[0].weight.data\n",
    "print('w的估计误差：', true_w - w.reshape(true_w.shape))\n",
    "b = net[0].bias.data\n",
    "print('b的估计误差：', true_b - b)"
   ]
  },
  {
   "cell_type": "code",
   "execution_count": null,
   "id": "b296321f",
   "metadata": {},
   "outputs": [],
   "source": []
  }
 ],
 "metadata": {
  "kernelspec": {
   "display_name": "Python 3 (ipykernel)",
   "language": "python",
   "name": "python3"
  },
  "language_info": {
   "codemirror_mode": {
    "name": "ipython",
    "version": 3
   },
   "file_extension": ".py",
   "mimetype": "text/x-python",
   "name": "python",
   "nbconvert_exporter": "python",
   "pygments_lexer": "ipython3",
   "version": "3.8.13"
  }
 },
 "nbformat": 4,
 "nbformat_minor": 5
}
