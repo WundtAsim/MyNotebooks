{
 "cells": [
  {
   "cell_type": "markdown",
   "id": "82f4df61",
   "metadata": {},
   "source": [
    "# 线性回归模型预测"
   ]
  },
  {
   "cell_type": "code",
   "execution_count": 23,
   "id": "5ef52d08",
   "metadata": {},
   "outputs": [],
   "source": [
    "#导入库\n",
    "%matplotlib inline\n",
    "import random\n",
    "import torch\n",
    "import matplotlib.pyplot as plt"
   ]
  },
  {
   "cell_type": "code",
   "execution_count": 24,
   "id": "27de632e",
   "metadata": {},
   "outputs": [],
   "source": [
    "#创建数据集--------使用线性模型参数：w=[2.-3.4],b=4.2和噪声生成数据集以及标签\n",
    "def synthetic_data(w,b,num_examples):\n",
    "    #特征矩阵\n",
    "    X = torch.normal(0,1,(num_examples, len(w)))\n",
    "    #标签向量\n",
    "    y = torch.matmul(X,w) + b\n",
    "    #加噪声\n",
    "    y += torch.normal(0,0.01,y.shape)\n",
    "    return X, y.reshape((-1,1))\n",
    "true_w = torch.tensor([2, -3.4])\n",
    "true_b = 4.2\n",
    "features, labels = synthetic_data(true_w,true_b,1000)"
   ]
  },
  {
   "cell_type": "code",
   "execution_count": 25,
   "id": "ad6c8f19",
   "metadata": {},
   "outputs": [
    {
     "name": "stdout",
     "output_type": "stream",
     "text": [
      "features:  tensor([0.2846, 2.3852]) \n",
      "labels:  tensor([-3.3412])\n"
     ]
    },
    {
     "data": {
      "text/plain": [
       "<matplotlib.collections.PathCollection at 0x22909c129d0>"
      ]
     },
     "execution_count": 25,
     "metadata": {},
     "output_type": "execute_result"
    },
    {
     "data": {
      "image/png": "[encoded data removed]",
      "text/plain": [
       "<Figure size 432x288 with 1 Axes>"
      ]
     },
     "metadata": {
      "needs_background": "light"
     },
     "output_type": "display_data"
    }
   ],
   "source": [
    "#观察数据集\n",
    "print('features: ',features[0],'\\nlabels: ',labels[0])\n",
    "plt.scatter(features[:,1].detach(), labels.detach(),1)"
   ]
  },
  {
   "cell_type": "code",
   "execution_count": 26,
   "id": "fe8df3fb",
   "metadata": {},
   "outputs": [
    {
     "name": "stdout",
     "output_type": "stream",
     "text": [
      "tensor([[ 0.3470,  0.1299],\n",
      "        [ 0.3838, -0.2670],\n",
      "        [-1.0813,  0.5490],\n",
      "        [ 1.8561, -0.5022],\n",
      "        [ 0.4631,  0.8167],\n",
      "        [-0.4712, -0.4957],\n",
      "        [ 0.3066,  0.3428],\n",
      "        [ 1.0109, -1.5206],\n",
      "        [ 0.2111,  0.5237],\n",
      "        [-1.0796, -0.2357]]) \n",
      " tensor([[ 4.4458],\n",
      "        [ 5.8886],\n",
      "        [ 0.1750],\n",
      "        [ 9.6358],\n",
      "        [ 2.3602],\n",
      "        [ 4.9434],\n",
      "        [ 3.6620],\n",
      "        [11.3853],\n",
      "        [ 2.8316],\n",
      "        [ 2.8310]])\n"
     ]
    }
   ],
   "source": [
    "#定义data_iter函数：接受批量大小，特征矩阵，标签向量，生成大小为batch_size的小批量\n",
    "def data_iter(batch_size, features, labels):\n",
    "    #获得总样本数\n",
    "    num_examples = len(features)\n",
    "    #打上序号\n",
    "    indices = list(range(num_examples))\n",
    "    #对序号随机打乱\n",
    "    random.shuffle(indices)\n",
    "    #每隔一个小批量取一个i\n",
    "    for i in range(0,num_examples, batch_size):\n",
    "        #获取每个小批量的编号列表\n",
    "        batch_indices = torch.tensor(indices[i:min(i+batch_size, num_examples)])\n",
    "        #生成器，起到存档点的作用，下次调用接着往下进行\n",
    "        yield features[batch_indices], labels[batch_indices]\n",
    "\n",
    "batch_size = 10\n",
    "#试试看我们的小批量特征矩阵以及标签向量生成咋样\n",
    "for X, y in data_iter(batch_size, features, labels):\n",
    "    print(X, '\\n',y)\n",
    "    break\n",
    "    "
   ]
  },
  {
   "cell_type": "code",
   "execution_count": 39,
   "id": "cfba50a1",
   "metadata": {},
   "outputs": [],
   "source": [
    "#开始定义\n",
    "\n",
    "#定义模型\n",
    "#线性回归模型\n",
    "def linreg(X,w,b):\n",
    "    return torch.matmul(X, w) + b\n",
    "\n",
    "#定义损失函数\n",
    "#均方损失函数\n",
    "def squared_loss(y_hat,y):\n",
    "    return(y_hat - y.reshape(y_hat.shape)) ** 2 / 2\n",
    "\n",
    "#定义优化算法\n",
    "def sgd(params,lr,batch_size):\n",
    "    with torch.no_grad():\n",
    "        for param in params:\n",
    "            param -= lr* param.grad / batch_size\n",
    "            param.grad.zero_()\n",
    "    "
   ]
  },
  {
   "cell_type": "code",
   "execution_count": 61,
   "id": "45a46f33",
   "metadata": {},
   "outputs": [
    {
     "name": "stdout",
     "output_type": "stream",
     "text": [
      "【epoch 1】, loss 0.032615\n",
      "w: tensor([[ 1.9283],\n",
      "        [-3.2606]], requires_grad=True) \n",
      "b: tensor([4.0016], requires_grad=True)\n",
      "【epoch 2】, loss 0.000116\n",
      "w: tensor([[ 1.9976],\n",
      "        [-3.3941]], requires_grad=True) \n",
      "b: tensor([4.1907], requires_grad=True)\n",
      "【epoch 3】, loss 0.000050\n",
      "w: tensor([[ 1.9992],\n",
      "        [-3.4003]], requires_grad=True) \n",
      "b: tensor([4.1999], requires_grad=True)\n",
      "w的估计误差： tensor([0.0008, 0.0003], grad_fn=<SubBackward0>)\n",
      "b的估计误差： tensor([9.8705e-05], grad_fn=<RsubBackward1>)\n"
     ]
    }
   ],
   "source": [
    "# 开始训练过程\n",
    "#定义初始化模型参数\n",
    "w = torch.normal(0, 0.01,size=(2,1), requires_grad=True)\n",
    "b = torch.zeros(1, requires_grad = True)\n",
    "\n",
    "#学习率不能太大也不能太小\n",
    "lr = 0.03\n",
    "#扫几遍\n",
    "num_epochs = 3\n",
    "#用的模型\n",
    "net = linreg\n",
    "#用的损失函数\n",
    "loss = squared_loss\n",
    "\n",
    "for epoch in range(num_epochs):\n",
    "    # 对每个小批量进行预测以及损失的计算，优化参数\n",
    "    for X,y in data_iter(batch_size,features,labels):\n",
    "        ## 先用net预测一个结果，然后计算损失(小批量)\n",
    "        l = loss(net(X,w,b),y)\n",
    "        ## l的形状是一个（batch_size，1）而不是一个标量\n",
    "        #因此需要相加并计算梯度\n",
    "        l.sum().backward()\n",
    "        ## 然后优化更新参数\n",
    "        sgd([w,b],lr,batch_size)\n",
    "    \n",
    "    with torch.no_grad():\n",
    "        train_l = loss(net(features,w,b),labels)\n",
    "        #print(f'epoch {epoch + 1}, loss {float(train_l.mean()):f}')\n",
    "        print('【epoch {}】, loss {:f}'.format(epoch+1, train_l.mean()))\n",
    "        print('w:',w,'\\nb:',b)\n",
    "\n",
    "# 比较一下下\n",
    "print('w的估计误差： {}'.format(true_w - w.reshape(true_w.shape)))\n",
    "print('b的估计误差： {}'.format(true_b - b))"
   ]
  },
  {
   "cell_type": "code",
   "execution_count": null,
   "id": "76acf96a",
   "metadata": {},
   "outputs": [],
   "source": []
  },
  {
   "cell_type": "code",
   "execution_count": null,
   "id": "b9e51e06",
   "metadata": {},
   "outputs": [],
   "source": []
  }
 ],
 "metadata": {
  "kernelspec": {
   "display_name": "Python 3 (ipykernel)",
   "language": "python",
   "name": "python3"
  },
  "language_info": {
   "codemirror_mode": {
    "name": "ipython",
    "version": 3
   },
   "file_extension": ".py",
   "mimetype": "text/x-python",
   "name": "python",
   "nbconvert_exporter": "python",
   "pygments_lexer": "ipython3",
   "version": "3.8.13"
  }
 },
 "nbformat": 4,
 "nbformat_minor": 5
}
