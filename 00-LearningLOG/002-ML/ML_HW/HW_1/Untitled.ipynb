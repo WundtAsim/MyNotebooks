{
 "cells": [
  {
   "cell_type": "markdown",
   "id": "d047248c-be1e-4ad4-b5e2-681a3fe4fa70",
   "metadata": {},
   "source": [
    "- 测试打开文件"
   ]
  },
  {
   "cell_type": "code",
   "execution_count": 11,
   "id": "ac7af510-9cf1-4a44-b37a-1cbf7630f527",
   "metadata": {},
   "outputs": [
    {
     "name": "stdout",
     "output_type": "stream",
     "text": [
      "<class 'list'> 2701\n"
     ]
    }
   ],
   "source": [
    "import csv\n",
    "import torch\n",
    "import numpy as np\n",
    "\n",
    "path = 'covid.train.csv'\n",
    "with open(path, 'r') as fp:\n",
    "    data = list(csv.reader(fp))\n",
    "    #data = np.array(data[1:])[:,1:].astype(float)\n",
    "\n",
    "print(type(data),len(data))\n"
   ]
  },
  {
   "cell_type": "code",
   "execution_count": 17,
   "id": "89ef42ff-6267-441c-8988-9705d0f4c723",
   "metadata": {},
   "outputs": [
    {
     "data": {
      "text/plain": [
       "2430"
      ]
     },
     "execution_count": 17,
     "metadata": {},
     "output_type": "execute_result"
    }
   ],
   "source": [
    "indices = [i for i in range(len(data)) if i % 10 != 0]\n",
    "len(indices)"
   ]
  }
 ],
 "metadata": {
  "kernelspec": {
   "display_name": "Python 3 (ipykernel)",
   "language": "python",
   "name": "python3"
  },
  "language_info": {
   "codemirror_mode": {
    "name": "ipython",
    "version": 3
   },
   "file_extension": ".py",
   "mimetype": "text/x-python",
   "name": "python",
   "nbconvert_exporter": "python",
   "pygments_lexer": "ipython3",
   "version": "3.8.13"
  }
 },
 "nbformat": 4,
 "nbformat_minor": 5
}
