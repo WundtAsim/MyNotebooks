{
 "cells": [
  {
   "cell_type": "markdown",
   "id": "075d46b7-b53f-4b23-b64b-e7b91ba7e240",
   "metadata": {
    "tags": []
   },
   "source": [
    "# 函数式编程\n",
    "前情提要：\n",
    "- 迭代：指能够通过for来遍历，如list，tuple\n",
    "    - 用于判断是否是可迭代对象：isinstance([], Iterable)\n",
    "- 列表生成式：[x*x for x in range(1,11) if x % 2 == 0], [m + n for m in 'ABC' for n in 'XYZ']\n",
    "- 生成器：如果列表元素可以按照某种算法推算出来，那我们是否可以在循环的过程中不断推算出后续的元素呢？这样就不必创建完整的list，从而节省大量的空间。在Python中，这种一边循环一边计算的机制，称为生成器：generator\n",
    "    - L = [x * x for x in range(10)]#这是一个列表生成式\n",
    "    - g = (x * x for x in range(10))#这是一个生成器\n",
    "        - next(g)#或者直接用for遍历，因为生成器也是可迭代对象\n",
    "        - 很适用于像斐波那契那样，不能通过列表生成式写出来，但是可以一个一个打出来的东西\n",
    "        - 当在函数中把print(b)写成yield(b),则函数便成了生成器函数，生成器的用法是o=add() next(o)#因为每次调用生成器函数，都会生成一个生成器对象\n",
    "- 迭代器：\n",
    "    - 生成器都是Iterator对象，但list、dict、str虽然是Iterable，却不是迭代器\n",
    "    - 把list、dict、str等Iterable变成Iterator可以使用iter()函数\n"
   ]
  },
  {
   "cell_type": "markdown",
   "id": "96ae34c3-5a9d-4c0c-be69-e58c0600fb21",
   "metadata": {
    "tags": []
   },
   "source": [
    "## 高阶函数"
   ]
  },
  {
   "cell_type": "markdown",
   "id": "2ca35cd8-07ac-461e-a413-dbe555dddd87",
   "metadata": {},
   "source": [
    "### map/reduce\n",
    "- map()函数接收两个参数，一个是函数，一个是Iterable，map将传入的函数依次作用到序列的每个元素，并把结果作为新的Iterator返回"
   ]
  },
  {
   "cell_type": "code",
   "execution_count": 2,
   "id": "fea5ddf3-a96b-44de-a6e3-bfc3790c199f",
   "metadata": {},
   "outputs": [
    {
     "data": {
      "text/plain": [
       "[1, 4, 9, 16]"
      ]
     },
     "execution_count": 2,
     "metadata": {},
     "output_type": "execute_result"
    }
   ],
   "source": [
    "def f(x):\n",
    "    return x*x\n",
    "r = map(f,[1,2,3,4])#结果r是一个迭代器\n",
    "list(r)"
   ]
  },
  {
   "cell_type": "markdown",
   "id": "79a42b65-41a0-4268-bced-6886ee17f175",
   "metadata": {},
   "source": [
    "- reduce把一个函数作用在一个序列[x1, x2, x3, ...]上，这个函数必须接收两个参数，reduce把结果继续和序列的下一个元素做累积计算"
   ]
  },
  {
   "cell_type": "code",
   "execution_count": 4,
   "id": "ba77d9ce-fed4-4678-9bb3-a93ab8b17701",
   "metadata": {},
   "outputs": [
    {
     "data": {
      "text/plain": [
       "25"
      ]
     },
     "execution_count": 4,
     "metadata": {},
     "output_type": "execute_result"
    }
   ],
   "source": [
    "from functools import reduce\n",
    "def add(x, y):\n",
    "     return x + y\n",
    "\n",
    "reduce(add, [1, 3, 5, 7, 9])"
   ]
  },
  {
   "cell_type": "code",
   "execution_count": 1,
   "id": "77d93511-d93a-4330-af74-9b099982ffd3",
   "metadata": {},
   "outputs": [
    {
     "data": {
      "text/plain": [
       "['123', '145']"
      ]
     },
     "execution_count": 1,
     "metadata": {},
     "output_type": "execute_result"
    }
   ],
   "source": [
    "s = \"123.145\"\n",
    "s= s.split('.')\n",
    "s"
   ]
  },
  {
   "cell_type": "markdown",
   "id": "a77f8964-eda0-4d08-8762-37e5fdff17f2",
   "metadata": {},
   "source": [
    "### filter()函数\n",
    "Python内建的filter()函数用于过滤序列。\n",
    "\n",
    "和map()类似，filter()也接收一个函数和一个序列。和map()不同的是，filter()把传入的函数依次作用于每个元素，然后根据返回值是True还是False决定保留还是丢弃该元素。\n",
    "\n",
    "filter返回的是一个iterator，要用list获得结果"
   ]
  },
  {
   "cell_type": "code",
   "execution_count": 2,
   "id": "e12cce81-093d-439b-8bee-659e1d3de72a",
   "metadata": {},
   "outputs": [
    {
     "data": {
      "text/plain": [
       "['A', 'B', 'C']"
      ]
     },
     "execution_count": 2,
     "metadata": {},
     "output_type": "execute_result"
    }
   ],
   "source": [
    "def not_empty(s):\n",
    "    return s and s.strip()#s.strip删除字符串头或尾的空格（括号里可以指定删除的字符）\n",
    "\n",
    "list(filter(not_empty, ['A', '', 'B', None, 'C', '  ']))"
   ]
  },
  {
   "cell_type": "markdown",
   "id": "80a786ef-cb27-446e-9feb-c57def106d67",
   "metadata": {},
   "source": [
    "### sorted()\n",
    "Python内置的sorted()函数就可以对list进行排序：  \n",
    "此外，sorted()函数也是一个高阶函数，它还可以接收一个key函数来实现自定义的排序，例如按绝对值大小排序："
   ]
  },
  {
   "cell_type": "code",
   "execution_count": 5,
   "id": "af329dbe-4e4b-4b0f-a6d7-c6cabe125a3b",
   "metadata": {},
   "outputs": [
    {
     "data": {
      "text/plain": [
       "[5, 9, -12, -21, 36]"
      ]
     },
     "execution_count": 5,
     "metadata": {},
     "output_type": "execute_result"
    }
   ],
   "source": [
    "sorted([36, 5, -12, 9, -21], key=abs)"
   ]
  },
  {
   "cell_type": "code",
   "execution_count": 6,
   "id": "da4cf056-f25b-4d6e-8d2d-d0abecac8b50",
   "metadata": {},
   "outputs": [
    {
     "data": {
      "text/plain": [
       "['about', 'bob', 'Credit', 'Zoo']"
      ]
     },
     "execution_count": 6,
     "metadata": {},
     "output_type": "execute_result"
    }
   ],
   "source": [
    "sorted(['bob', 'about', 'Zoo', 'Credit'], key=str.lower)"
   ]
  },
  {
   "cell_type": "code",
   "execution_count": 8,
   "id": "f55923f1-d615-4faa-82d7-c47fa2b26a8c",
   "metadata": {},
   "outputs": [
    {
     "data": {
      "text/plain": [
       "['Zoo', 'Credit', 'bob', 'about']"
      ]
     },
     "execution_count": 8,
     "metadata": {},
     "output_type": "execute_result"
    }
   ],
   "source": [
    "#要进行反向排序，不必改动key函数，可以传入第三个参数reverse=True：\n",
    "sorted(['bob', 'about', 'Zoo', 'Credit'], key=str.lower, reverse=True)"
   ]
  },
  {
   "cell_type": "markdown",
   "id": "d1b13d46-ece5-46c1-9042-268711084aa6",
   "metadata": {},
   "source": [
    "## 返回函数\n",
    "- 闭包：当一个函数返回了一个函数后，其内部的局部变量还被新函数引用；  \n",
    "    - 另一个需要注意的问题是，返回的函数并没有立刻执行，而是直到调用了f()才执行。  \n",
    "- 返回闭包时牢记一点：返回函数不要引用任何循环变量，或者后续会发生变化的变量。  \n",
    "- 使用闭包时，对外层变量赋值前，需要先使用nonlocal声明该变量不是当前函数的局部变量。"
   ]
  },
  {
   "cell_type": "markdown",
   "id": "a3c0d9f8-4665-407c-92f8-abe4d0c00f21",
   "metadata": {
    "tags": []
   },
   "source": [
    "## 匿名函数 "
   ]
  },
  {
   "cell_type": "code",
   "execution_count": 12,
   "id": "b6fa04ad-34ee-455c-8ae3-50d57afb5d8d",
   "metadata": {},
   "outputs": [
    {
     "data": {
      "text/plain": [
       "[1, 4, 9, 16, 25, 36, 49, 64, 81]"
      ]
     },
     "execution_count": 12,
     "metadata": {},
     "output_type": "execute_result"
    }
   ],
   "source": [
    "list(map(lambda x: x * x, [1, 2, 3, 4, 5, 6, 7, 8, 9]))"
   ]
  },
  {
   "cell_type": "markdown",
   "id": "544e843e-423a-4518-a2a7-eaf431db1469",
   "metadata": {},
   "source": [
    "## 装饰器\n",
    "由于函数也是一个对象，而且函数对象可以被赋值给变量，所以，通过变量也能调用该函数。 \n",
    "函数对象有一个__name__属性，可以拿到函数的名字：  \n",
    "现在，假设我们要增强now()函数的功能，比如，在函数调用前后自动打印日志，但又不希望修改now()函数的定义，这种在代码运行期间动态增加功能的方式，称之为“装饰器”（Decorator）。\n",
    "\n",
    "本质上，decorator就是一个返回函数的高阶函数。所以，我们要定义一个能打印日志的decorator，可以定义如下：  \n",
    "``` python\n",
    "def log(func):\n",
    "    def wrapper(*args, **kw):\n",
    "        print('call %s():' % func.__name__)\n",
    "        return func(*args, **kw)\n",
    "    return wrapper\n",
    "```\n",
    "    观察上面的log，因为它是一个decorator，所以接受一个函数作为参数，并返回一个函数。我们要借助Python的@语法，把decorator置于函数的定义处：  \n",
    "``` python\n",
    "@log\n",
    "def now():\n",
    "    print('2015-3-25')\n",
    "```\n",
    "    调用now()函数，不仅会运行now()函数本身，还会在运行now()函数前打印一行日志：  \n",
    "```python\n",
    "    >>> now()\n",
    "call now():\n",
    "2015-3-25\n",
    "```\n",
    "    把@log放到now()函数的定义处，相当于执行了语句：  \n",
    "\n",
    "    `now = log(now)`"
   ]
  },
  {
   "cell_type": "markdown",
   "id": "934ee759-b205-4999-acbd-53093d7ee86b",
   "metadata": {},
   "source": [
    "## 偏函数\n",
    "int()函数还提供额外的base参数，默认值为10。如果传入base参数，就可以做N进制的转换：\n",
    "```python\n",
    "    >>> int('12345', base=8)\n",
    "    5349\n",
    "    >>> int('12345', 16)\n",
    "    74565\n",
    "```\n"
   ]
  },
  {
   "cell_type": "code",
   "execution_count": 17,
   "id": "563e275a-3ae0-478e-83f4-0a52c9ba8546",
   "metadata": {},
   "outputs": [
    {
     "data": {
      "text/plain": [
       "64"
      ]
     },
     "execution_count": 17,
     "metadata": {},
     "output_type": "execute_result"
    }
   ],
   "source": [
    "#functools.partial就是帮助我们创建一个偏函数的，不需要我们自己定义int2()，可以直接使用下面的代码创建一个新的函数int2：\n",
    "import functools\n",
    "int2 = functools.partial(int, base=2)\n",
    "int2('1000000')"
   ]
  },
  {
   "cell_type": "markdown",
   "id": "bd4a8b77-36bc-40eb-be21-1562295ea9c9",
   "metadata": {},
   "source": [
    "- 所以，简单总结functools.partial的作用就是，把一个函数的某些参数给固定住（也就是设置默认值），返回一个新的函数，调用这个新函数会更简单。\n",
    "\n",
    "- 注意到上面的新的int2函数，仅仅是把base参数重新设定默认值为2，但也可以在函数调用时传入其他值："
   ]
  },
  {
   "cell_type": "markdown",
   "id": "17db6ff5-3108-42f9-8456-812dad6650ae",
   "metadata": {},
   "source": [
    "# module模块\n",
    "为了编写可维护的代码，我们把很多函数分组，分别放到不同的文件里，这样，每个文件包含的代码就相对较少，很多编程语言都采用这种组织代码的方式。在Python中，一个.py文件就称之为一个模块（Module）。  \n",
    "你也许还想到，如果不同的人编写的模块名相同怎么办？为了避免模块名冲突，Python又引入了按目录来组织模块的方法，称为包（Package）。 \n",
    "``` \n",
    "    mycompany\n",
    "    ├─ __init__.py\n",
    "    ├─ abc.py\n",
    "    └─ xyz.py \n",
    "```\n",
    "请注意，每一个包目录下面都会有一个__init__.py的文件，这个文件是必须存在的，否则，Python就把这个目录当成普通目录，而不是一个包。__init__.py可以是空文件，也可以有Python代码，因为__init__.py本身就是一个模块，而它的模块名就是mycompany"
   ]
  },
  {
   "cell_type": "markdown",
   "id": "e415b31b-21a0-4d1d-a453-9f7308e995ac",
   "metadata": {},
   "source": [
    "类似__xxx__这样的变量是特殊变量，可以被直接引用，但是有特殊用途，比如上面的__author__，__name__就是特殊变量，hello模块定义的文档注释也可以用特殊变量__doc__访问，我们自己的变量一般不要用这种变量名；  \n",
    "\n",
    "类似_xxx和__xxx这样的函数或变量就是非公开的（private），不应该被直接引用，比如_abc，__abc等；  \n",
    "\n",
    "之所以我们说，private函数和变量“不应该”被直接引用，而不是“不能”被直接引用，是因为Python并没有一种方法可以完全限制访问private函数或变量，但是，从编程习惯上不应该引用private函数或变量。  "
   ]
  },
  {
   "cell_type": "markdown",
   "id": "96e748ee-333b-4a19-8580-670b9a9454fb",
   "metadata": {},
   "source": [
    "# OOP:面向对象编程\n",
    "## 类和实例\n",
    "- 类：class Student(object):定义了一个继承自object的类student；\n",
    "- 实例：bart = Student()；\n",
    "- 通过定义一个特殊的__init__方法，在创建实例的时候，就把name，score等属性绑上去：\n",
    "```\n",
    "class Student(object):\n",
    "\n",
    "    def __init__(self, name, score):#self表示创建的实例本身\n",
    "        self.name = name\n",
    "        self.score = score\n",
    "```"
   ]
  },
  {
   "cell_type": "markdown",
   "id": "796eb824-9d49-4c4b-9c72-41aee97fc41c",
   "metadata": {
    "tags": []
   },
   "source": [
    "## 访问限制\n",
    "如果要让内部属性不被外部访问，可以把属性的名称前加上两个下划线__，在Python中，实例的变量名如果以__开头，就变成了一个私有变量（private），只有内部可以访问，外部不能访问。\n",
    "```\n",
    "class Student(object):\n",
    "\n",
    "    def __init__(self, name, score):\n",
    "        self.__name = name\n",
    "        self.__score = score\n",
    "\n",
    "    def print_score(self):\n",
    "        print('%s: %s' % (self.__name, self.__score))\n",
    "```\n",
    "- 改完后，对于外部代码来说，没什么变动，但是已经无法从外部访问实例变量.__name和实例变量.__score了\n",
    "- 如果又要允许外部代码修改score怎么办？可以再给Student类增加set_score方法：\n",
    "```\n",
    "class Student(object):\n",
    "    ...\n",
    "\n",
    "    def set_score(self, score):\n",
    "        if 0 <= score <= 100:\n",
    "            self.__score = score\n",
    "        else:\n",
    "            raise ValueError('bad score')\n",
    "```\n",
    "- 需要注意的是，在Python中，变量名类似__xxx__的，也就是以双下划线开头，并且以双下划线结尾的，是特殊变量，特殊变量是可以直接访问的，不是private变量，所以，不能用__name__、__score__这样的变量名\n",
    "- _name，这样的实例变量外部是可以访问的，但是，按照约定俗成的规定，当你看到这样的变量时，意思就是，“虽然我可以被访问，但是，请把我视为私有变量，不要随意访问”。双下划线开头的实例变量是不是一定不能从外部访问呢？其实也不是。不能直接访问__name是因为Python解释器对外把__name变量改成了_Student__name，所以，仍然可以通过_Student__name来访问__name变量.\n"
   ]
  },
  {
   "cell_type": "markdown",
   "id": "789c4b24-0fe5-415f-a9f2-619875fa8e32",
   "metadata": {},
   "source": [
    "## 获取对象信息\n",
    "- type（）：type(123)==int\n",
    "    - 但如果要判断一个对象是否是函数怎么办？可以使用types模块中定义的常量：\n",
    "    ```\n",
    "    >>> import types\n",
    "    >>> def fn():\n",
    "    ...     pass\n",
    "    ...\n",
    "    >>> type(fn)==types.FunctionType\n",
    "    ```\n",
    "- isinstance():判断是否是某个类的实例，或者是继承关系也可\n",
    "- dir()：如果要获得一个对象的所有属性和方法，可以使用dir()函数，它返回一个包含字符串的list\n",
    "    - 类似__xxx__的属性和方法在Python中都是有特殊用途的，比如__len__方法返回长度。在Python中，如果你调用len()函数试图获取一个对象的长度，实际上，在len()函数内部，它自动去调用该对象的__len__()方法，所以，下面的代码是等价的：\n",
    "    ```\n",
    "    >>> len('ABC')\n",
    "    3\n",
    "    >>> 'ABC'.__len__()\n",
    "    3\n",
    "    ```\n",
    "    - hasattr(obj, 'x') # 有属性'x'吗？\n",
    "    - setattr(obj, 'y', 19) # 设置一个属性'y'\n",
    "    - getattr(obj, 'y') # 获取属性'y'\n",
    "    - getattr(obj, 'z', 404) # 获取属性'z'，如果不存在，返回默认值404"
   ]
  },
  {
   "cell_type": "markdown",
   "id": "d7e4e427-77a2-4fbf-8e62-3b928fc42467",
   "metadata": {},
   "source": [
    "## 实例属性和类属性\n",
    "- 在类中定义个属性叫做类属性，而通过self或.创建的属性是实例属性，\n",
    "- 两者不可同名，不然实例属性会覆盖类属性"
   ]
  },
  {
   "cell_type": "markdown",
   "id": "6fa5624c-4641-416a-a99f-4df41e4fa5bc",
   "metadata": {},
   "source": [
    "## 使用_ _slots_ _\n",
    "- 限制实例的属性，只允许对Student实例添加name和age属性。  \n",
    "- 为了达到限制的目的，Python允许在定义class的时候，定义一个特殊的__slots__变量，来限制该class实例能添加的属性：\n",
    "    ```\n",
    "    class Student(object):\n",
    "        __slots__ = ('name', 'age') # 用tuple定义允许绑定的属性名称\n",
    "    ```\n",
    "- 使用__slots__要注意，__slots__定义的属性仅对当前类实例起作用，对继承的子类是不起作用的：\n",
    "- 除非在子类中也定义__slots__，这样，子类实例允许定义的属性就是自身的__slots__加上父类的__slots__。"
   ]
  },
  {
   "cell_type": "markdown",
   "id": "327e0f61-8756-4b10-9cf7-fb947f5c6c86",
   "metadata": {},
   "source": [
    "## 使用@property\n",
    "在设置学生成绩的类中，需要设置一个set_score方法，以正确地修改score，但是太过麻烦，可以使用@property\n",
    "- 装饰器（decorator）可以给函数动态加上功能\n",
    "- Python内置的@property装饰器就是负责把一个方法变成属性调用的，使得再外面对实例进行设置时可以按照方法设置该属性\n",
    "    ```\n",
    "    class Student(object):\n",
    "\n",
    "    @property\n",
    "    def score(self):#等价于get_score\n",
    "        return self._score\n",
    "    @score.setter\n",
    "    def score(self, value):# 等价于set_score\n",
    "        if not isinstance(value, int):\n",
    "            raise ValueError('score must be an integer!')\n",
    "        if value < 0 or value > 100:\n",
    "            raise ValueError('score must between 0 ~ 100!')\n",
    "        self._score = value\n",
    "\n",
    "    ```"
   ]
  }
 ],
 "metadata": {
  "kernelspec": {
   "display_name": "Python 3 (ipykernel)",
   "language": "python",
   "name": "python3"
  },
  "language_info": {
   "codemirror_mode": {
    "name": "ipython",
    "version": 3
   },
   "file_extension": ".py",
   "mimetype": "text/x-python",
   "name": "python",
   "nbconvert_exporter": "python",
   "pygments_lexer": "ipython3",
   "version": "3.8.13"
  },
  "toc-autonumbering": true,
  "toc-showmarkdowntxt": false
 },
 "nbformat": 4,
 "nbformat_minor": 5
}
