{
 "cells": [
  {
   "cell_type": "markdown",
   "id": "075d46b7-b53f-4b23-b64b-e7b91ba7e240",
   "metadata": {
    "tags": []
   },
   "source": [
    "# 函数式编程\n",
    "前情提要：\n",
    "- 迭代：指能够通过for来遍历，如list，tuple\n",
    "    - 用于判断是否是可迭代对象：isinstance([], Iterable)\n",
    "- 列表生成式：[x*x for x in range(1,11) if x % 2 == 0], [m + n for m in 'ABC' for n in 'XYZ']\n",
    "- 生成器：如果列表元素可以按照某种算法推算出来，那我们是否可以在循环的过程中不断推算出后续的元素呢？这样就不必创建完整的list，从而节省大量的空间。在Python中，这种一边循环一边计算的机制，称为生成器：generator\n",
    "    - L = [x * x for x in range(10)]#这是一个列表生成式\n",
    "    - g = (x * x for x in range(10))#这是一个生成器\n",
    "        - next(g)#或者直接用for遍历，因为生成器也是可迭代对象\n",
    "        - 很适用于像斐波那契那样，不能通过列表生成式写出来，但是可以一个一个打出来的东西\n",
    "        - 当在函数中把print(b)写成yield(b),则函数便成了生成器函数，生成器的用法是o=add() next(o)#因为每次调用生成器函数，都会生成一个生成器对象\n",
    "- 迭代器：\n",
    "    - 生成器都是Iterator对象，但list、dict、str虽然是Iterable，却不是迭代器\n",
    "    - 把list、dict、str等Iterable变成Iterator可以使用iter()函数\n"
   ]
  },
  {
   "cell_type": "markdown",
   "id": "96ae34c3-5a9d-4c0c-be69-e58c0600fb21",
   "metadata": {
    "tags": []
   },
   "source": [
    "## 高阶函数"
   ]
  },
  {
   "cell_type": "markdown",
   "id": "2ca35cd8-07ac-461e-a413-dbe555dddd87",
   "metadata": {},
   "source": [
    "### map/reduce\n",
    "- map()函数接收两个参数，一个是函数，一个是Iterable，map将传入的函数依次作用到序列的每个元素，并把结果作为新的Iterator返回"
   ]
  },
  {
   "cell_type": "code",
   "execution_count": 2,
   "id": "fea5ddf3-a96b-44de-a6e3-bfc3790c199f",
   "metadata": {},
   "outputs": [
    {
     "data": {
      "text/plain": [
       "[1, 4, 9, 16]"
      ]
     },
     "execution_count": 2,
     "metadata": {},
     "output_type": "execute_result"
    }
   ],
   "source": [
    "def f(x):\n",
    "    return x*x\n",
    "r = map(f,[1,2,3,4])#结果r是一个迭代器\n",
    "list(r)"
   ]
  },
  {
   "cell_type": "markdown",
   "id": "79a42b65-41a0-4268-bced-6886ee17f175",
   "metadata": {},
   "source": [
    "- reduce把一个函数作用在一个序列[x1, x2, x3, ...]上，这个函数必须接收两个参数，reduce把结果继续和序列的下一个元素做累积计算"
   ]
  },
  {
   "cell_type": "code",
   "execution_count": 4,
   "id": "ba77d9ce-fed4-4678-9bb3-a93ab8b17701",
   "metadata": {},
   "outputs": [
    {
     "data": {
      "text/plain": [
       "25"
      ]
     },
     "execution_count": 4,
     "metadata": {},
     "output_type": "execute_result"
    }
   ],
   "source": [
    "from functools import reduce\n",
    "def add(x, y):\n",
    "     return x + y\n",
    "\n",
    "reduce(add, [1, 3, 5, 7, 9])"
   ]
  },
  {
   "cell_type": "code",
   "execution_count": 7,
   "id": "77d93511-d93a-4330-af74-9b099982ffd3",
   "metadata": {},
   "outputs": [
    {
     "data": {
      "text/plain": [
       "['123', '145']"
      ]
     },
     "execution_count": 7,
     "metadata": {},
     "output_type": "execute_result"
    }
   ],
   "source": [
    "s = \"123.145\"\n",
    "s= s.split('.')\n",
    "s"
   ]
  }
 ],
 "metadata": {
  "kernelspec": {
   "display_name": "Python 3 (ipykernel)",
   "language": "python",
   "name": "python3"
  },
  "language_info": {
   "codemirror_mode": {
    "name": "ipython",
    "version": 3
   },
   "file_extension": ".py",
   "mimetype": "text/x-python",
   "name": "python",
   "nbconvert_exporter": "python",
   "pygments_lexer": "ipython3",
   "version": "3.8.13"
  },
  "toc-autonumbering": true,
  "toc-showmarkdowntxt": false
 },
 "nbformat": 4,
 "nbformat_minor": 5
}
